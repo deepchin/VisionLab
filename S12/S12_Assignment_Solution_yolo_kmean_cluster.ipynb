{
 "cells": [
  {
   "cell_type": "markdown",
   "metadata": {},
   "source": [
    "## Calculate the optimal number of cluster for YOLO\n",
    "\n",
    "### Submitted by Deepak Hazarika  , Parinita Bora , Gurudatta\n",
    "\n",
    "\n",
    "### Import the required libraries\n",
    "\n",
    "\n"
   ]
  },
  {
   "cell_type": "code",
   "execution_count": 24,
   "metadata": {},
   "outputs": [
    {
     "name": "stdout",
     "output_type": "stream",
     "text": [
      "Local current time : Sat Oct 17 23:03:28 2020\n"
     ]
    }
   ],
   "source": [
    "import time;\n",
    "\n",
    "localtime = time.asctime(time.localtime(time.time()))\n",
    "print (\"Local current time :\", localtime)"
   ]
  },
  {
   "cell_type": "code",
   "execution_count": 1,
   "metadata": {},
   "outputs": [
    {
     "name": "stderr",
     "output_type": "stream",
     "text": [
      "C:\\Users\\dhazarik.ORADEV\\Anaconda3\\envs\\newptch\\lib\\site-packages\\sklearn\\utils\\deprecation.py:143: FutureWarning: The sklearn.datasets.samples_generator module is  deprecated in version 0.22 and will be removed in version 0.24. The corresponding classes / functions should instead be imported from sklearn.datasets. Anything that cannot be imported from sklearn.datasets is now part of the private API.\n",
      "  warnings.warn(message, FutureWarning)\n"
     ]
    }
   ],
   "source": [
    "import numpy as np\n",
    "import pandas as pd\n",
    "from matplotlib import pyplot as plt\n",
    "from sklearn.datasets.samples_generator import make_blobs\n",
    "from sklearn.cluster import KMeans"
   ]
  },
  {
   "cell_type": "code",
   "execution_count": 2,
   "metadata": {},
   "outputs": [],
   "source": [
    "import csv\n",
    "import re\n",
    "from PIL import Image\n",
    "import numpy as np\n",
    "import math "
   ]
  },
  {
   "cell_type": "markdown",
   "metadata": {},
   "source": [
    "## Initialize the constatnts\n",
    "Number of grid cells = 13 x 13"
   ]
  },
  {
   "cell_type": "code",
   "execution_count": 3,
   "metadata": {},
   "outputs": [],
   "source": [
    "GRID_X = 13.0\n",
    "GRID_Y = 13.0"
   ]
  },
  {
   "cell_type": "markdown",
   "metadata": {},
   "source": [
    "### Find the image file size for use during annotation\n",
    "Store the image file size in a dictionary for later use\n"
   ]
  },
  {
   "cell_type": "code",
   "execution_count": 4,
   "metadata": {},
   "outputs": [
    {
     "name": "stdout",
     "output_type": "stream",
     "text": [
      "C:\\eva\\eva5\\week12\\renamedimages\\\n"
     ]
    }
   ],
   "source": [
    "import glob, os\n",
    "\n",
    "img_path = 'C:\\\\eva\\\\eva5\\\\week12\\\\renamedimages\\\\'\n",
    "\n",
    "yolo_Dict = {}\n",
    "\n",
    "for root, dirs, files in os.walk(img_path):\n",
    "    print(root)\n",
    "    for file in files:\n",
    "        if file.endswith(\".jpg\"):\n",
    "            file_path = os.path.join(root,file)\n",
    "            img = Image.open(file_path , mode= 'r')\n",
    "            #print(\" path {} shape {}\".format(file_path , img.size))\n",
    "            imgDict = {}\n",
    "            imgDict = {'Img_X': img.size[0] , 'Img_Y': img.size[1]} \n",
    "            yolo_Dict[file] = imgDict\n",
    "\n"
   ]
  },
  {
   "cell_type": "markdown",
   "metadata": {},
   "source": [
    "## Load the annotated json file"
   ]
  },
  {
   "cell_type": "code",
   "execution_count": 5,
   "metadata": {},
   "outputs": [],
   "source": [
    "import json \n",
    "\n",
    "filepath = 'C:\\\\eva\\\\eva5\\\\week12\\\\'\n",
    "\n",
    "# Opening JSON file \n",
    "f = open(filepath + 'S12_assignment.json',) \n",
    "  \n",
    "# returns JSON object as  \n",
    "# a dictionary \n",
    "data = json.load(f) \n",
    "  \n"
   ]
  },
  {
   "cell_type": "markdown",
   "metadata": {},
   "source": [
    "## Parse the json object and extract the following\n",
    "\n",
    "The image file name , bounding box width and height and the class and store in a dataframe\n",
    "\n",
    "[\n",
    "{'shape_attributes': {'name': 'rect', 'x': 33, 'y': 131, 'width': 43, 'height': 62}, \n",
    "'region_attributes': {'': 'boot1', 'dropdown': 'boot'}\n",
    "}, "
   ]
  },
  {
   "cell_type": "code",
   "execution_count": 6,
   "metadata": {},
   "outputs": [
    {
     "name": "stdout",
     "output_type": "stream",
     "text": [
      "img_1.jpg\n",
      "img_2.jpg\n",
      "img_3.jpg\n",
      "img_4.jpg\n",
      "img_5.jpg\n",
      "img_6.jpg\n",
      "img_7.jpg\n",
      "img_8.jpg\n",
      "img_9.jpg\n",
      "img_10.jpg\n",
      "img_11.jpg\n",
      "img_12.jpg\n",
      "img_13.jpg\n",
      "img_14.jpg\n",
      "img_15.jpg\n",
      "img_16.jpg\n",
      "img_17.jpg\n",
      "img_18.jpg\n",
      "img_19.jpg\n",
      "img_20.jpg\n",
      "img_21.jpg\n",
      "img_22.jpg\n",
      "img_23.jpg\n",
      "img_24.jpg\n",
      "img_25.jpg\n",
      "img_26.jpg\n",
      "img_27.jpg\n",
      "img_28.jpg\n",
      "img_29.jpg\n",
      "img_30.jpg\n",
      "img_31.jpg\n",
      "img_32.jpg\n",
      "img_33.jpg\n",
      "img_34.jpg\n",
      "img_35.jpg\n",
      "img_36.jpg\n",
      "img_37.jpg\n",
      "img_38.jpg\n",
      "img_39.jpg\n",
      "img_40.jpg\n",
      "img_41.jpg\n",
      "img_42.jpg\n",
      "img_43.jpg\n",
      "img_44.jpg\n",
      "img_45.jpg\n",
      "img_46.jpg\n",
      "img_47.jpg\n",
      "img_48.jpg\n",
      "img_49.jpg\n",
      "img_51.jpg\n",
      "img_52.jpg\n",
      "img_53.jpg\n",
      "img_54.jpg\n",
      "img_55.jpg\n",
      "img_56.jpg\n",
      "img_57.jpg\n",
      "img_58.jpg\n",
      "img_59.jpg\n",
      "img_60.jpg\n",
      "img_61.jpg\n",
      "img_63.jpg\n",
      "img_64.jpg\n",
      "img_65.jpg\n",
      "img_66.jpg\n",
      "img_67.jpg\n",
      "img_68.jpg\n",
      "img_69.jpg\n",
      "img_70.jpg\n",
      "img_71.jpg\n",
      "img_72.jpg\n",
      "img_73.jpg\n",
      "img_74.jpg\n",
      "img_75.jpg\n",
      "img_76.jpg\n",
      "img_77.jpg\n",
      "img_78.jpg\n",
      "img_79.jpg\n",
      "img_80.jpg\n",
      "img_81.jpg\n",
      "img_82.jpg\n",
      "img_83.jpg\n",
      "img_84.jpg\n",
      "img_85.jpg\n",
      "img_86.jpg\n",
      "img_87.jpg\n",
      "img_88.jpg\n",
      "img_89.jpg\n",
      "img_90.jpg\n",
      "img_91.jpg\n",
      "img_92.jpg\n",
      "img_93.jpg\n",
      "img_94.jpg\n",
      "img_95.jpg\n",
      "img_96.jpg\n",
      "img_50.jpg\n",
      "img_62.jpg\n"
     ]
    }
   ],
   "source": [
    "# Iterating through the json \n",
    "# list \n",
    "json_img_name = []\n",
    "json_box_width = []\n",
    "json_box_height = []\n",
    "json_box_class = []\n",
    "\n",
    "for i in data['_via_img_metadata']: \n",
    "    itok = i.split('.')\n",
    "    itok[1] = itok[1][:3]\n",
    "    itok = '.'.join(itok)\n",
    "    print(itok)\n",
    "    #print(data['_via_img_metadata'][i]['regions'])\n",
    "    for j in range(len(data['_via_img_metadata'][i]['regions'])):\n",
    "        #print(\" region {} \".format( data['_via_img_metadata'][i]['regions'][j]))\n",
    "        region = data['_via_img_metadata'][i]['regions'][j]\n",
    "        shape_attrib_width = region['shape_attributes']['width']\n",
    "        shape_attrib_height = region['shape_attributes']['height']\n",
    "        region_attrib_class = region['region_attributes']['dropdown']\n",
    "        #print(\"name {} class {} box_w {} box_h {}\".format(itok, region_attrib_class ,shape_attrib_width ,shape_attrib_height))\n",
    "        \n",
    "        json_img_name.append(itok)\n",
    "        json_box_width.append(shape_attrib_width)\n",
    "        json_box_height.append(shape_attrib_height)\n",
    "        json_box_class.append(region_attrib_class)\n",
    "          \n",
    "assert (len(json_img_name) == len(json_box_width) == len(json_box_height) == len(json_box_class))\n",
    "jsonImgDict = {'Img_name': json_img_name, 'Box_width': json_box_width , 'Box_height': json_box_height, 'Box_class': json_box_class}            \n",
    "jsonDF = pd.DataFrame(data = jsonImgDict)\n",
    "            \n",
    "# Closing file \n",
    "f.close() "
   ]
  },
  {
   "cell_type": "markdown",
   "metadata": {},
   "source": [
    "### set the image file size for each bounding box\n",
    "\n",
    "in the dataframe"
   ]
  },
  {
   "cell_type": "code",
   "execution_count": 7,
   "metadata": {},
   "outputs": [],
   "source": [
    "img_width = []\n",
    "img_height = []\n",
    "for i, row in jsonDF.iterrows():\n",
    "    #print( \"img {} dim {}\".format(row['Img_name'] , yolo_Dict[row['Img_name']]))\n",
    "    img_width.append(yolo_Dict[row['Img_name']]['Img_X'])\n",
    "    img_height.append(yolo_Dict[row['Img_name']]['Img_Y'])\n",
    "    \n",
    "assert (len(img_width) == len(img_height) == len(jsonDF))\n",
    "\n",
    "\n",
    "jsonDF[\"Image_width\"] = img_width\n",
    "jsonDF[\"Image_height\"] = img_height"
   ]
  },
  {
   "cell_type": "markdown",
   "metadata": {},
   "source": [
    "### Normalize the bounding box width and height w.r.t image width and height \n",
    "This will help in comparing the bounding box for images of different size"
   ]
  },
  {
   "cell_type": "code",
   "execution_count": 8,
   "metadata": {},
   "outputs": [],
   "source": [
    "jsonDF[\"Box_norm_width\"]  = jsonDF['Box_width']/ jsonDF['Image_width']\n",
    "jsonDF[\"Box_norm_height\"]  = jsonDF['Box_height']/ jsonDF['Image_height']\n"
   ]
  },
  {
   "cell_type": "code",
   "execution_count": 9,
   "metadata": {},
   "outputs": [],
   "source": [
    "jsonDF[\"Box_X\"] =((jsonDF['Box_width']/ jsonDF['Image_width'])*GRID_X)\n",
    "jsonDF[\"Box_Y\"] = ((jsonDF['Box_height']/ jsonDF['Image_height'])*GRID_Y)\n"
   ]
  },
  {
   "cell_type": "markdown",
   "metadata": {},
   "source": [
    "### Translate the centroid of the bounding box to a cell location in a 13 x 13 grid"
   ]
  },
  {
   "cell_type": "code",
   "execution_count": 10,
   "metadata": {},
   "outputs": [],
   "source": [
    "jsonDF[\"Box_X\"] = [math.ceil(x) for x in jsonDF[\"Box_X\"]]\n",
    "jsonDF[\"Box_Y\"] = [math.ceil(x) for x in jsonDF[\"Box_Y\"]]"
   ]
  },
  {
   "cell_type": "markdown",
   "metadata": {},
   "source": [
    "### Extract the normalized location of bounding box from the dataframe\n",
    "This is fed to the K Means calculator"
   ]
  },
  {
   "cell_type": "code",
   "execution_count": 11,
   "metadata": {},
   "outputs": [],
   "source": [
    "feedTOKMeans = np.asarray([[jsonDF['Box_norm_width'][i] , jsonDF['Box_norm_height'][i]] for i in range(len(jsonDF['Box_norm_width']))])"
   ]
  },
  {
   "cell_type": "code",
   "execution_count": 12,
   "metadata": {},
   "outputs": [
    {
     "data": {
      "text/plain": [
       "array([[0.17479675, 0.30243902],\n",
       "       [0.19918699, 0.31219512],\n",
       "       [0.37818182, 0.35519126],\n",
       "       [0.21090909, 0.29508197],\n",
       "       [0.17343173, 0.20430108],\n",
       "       [0.11808118, 0.14516129],\n",
       "       [0.27118644, 0.16842105],\n",
       "       [0.4180791 , 0.10877193],\n",
       "       [0.26111111, 0.12099644],\n",
       "       [0.21111111, 0.113879  ],\n",
       "       [0.26666667, 0.10320285],\n",
       "       [0.40555556, 0.20640569],\n",
       "       [0.29818182, 0.68306011],\n",
       "       [0.46181818, 0.68306011],\n",
       "       [0.22073579, 0.30357143],\n",
       "       [0.35451505, 0.51190476],\n",
       "       [0.20735786, 0.25595238],\n",
       "       [0.4351145 , 0.33333333],\n",
       "       [0.20610687, 0.24479167],\n",
       "       [0.90222222, 0.91111111],\n",
       "       [0.16333333, 0.17857143],\n",
       "       [0.10666667, 0.11309524],\n",
       "       [0.22      , 0.41071429],\n",
       "       [0.26666667, 0.33333333],\n",
       "       [0.12666667, 0.1547619 ],\n",
       "       [0.36666667, 0.48809524],\n",
       "       [0.37704918, 0.20363636],\n",
       "       [0.79781421, 0.50545455],\n",
       "       [0.32      , 0.31693989],\n",
       "       [0.21090909, 0.26775956],\n",
       "       [0.10702341, 0.16666667],\n",
       "       [0.28093645, 0.38690476],\n",
       "       [0.10702341, 0.125     ],\n",
       "       [0.16053512, 0.30952381],\n",
       "       [0.13712375, 0.14285714],\n",
       "       [0.22408027, 0.46428571],\n",
       "       [0.12374582, 0.13095238],\n",
       "       [0.11036789, 0.41071429],\n",
       "       [0.41569767, 0.41496599],\n",
       "       [0.21134021, 0.06563707],\n",
       "       [0.13917526, 0.13513514],\n",
       "       [0.13917526, 0.15444015],\n",
       "       [0.15172414, 0.13218391],\n",
       "       [0.11724138, 0.2183908 ],\n",
       "       [0.16896552, 0.27586207],\n",
       "       [0.19125683, 0.06181818],\n",
       "       [0.27322404, 0.21090909],\n",
       "       [0.26775956, 0.21818182],\n",
       "       [0.4       , 0.48387097],\n",
       "       [0.27407407, 0.40860215],\n",
       "       [0.18113208, 0.17894737],\n",
       "       [0.11320755, 0.10526316],\n",
       "       [0.30943396, 0.50526316],\n",
       "       [0.17829457, 0.31282051],\n",
       "       [0.18217054, 0.21538462],\n",
       "       [0.15849057, 0.08421053],\n",
       "       [0.1245283 , 0.09473684],\n",
       "       [0.20377358, 0.41578947],\n",
       "       [0.26553672, 0.14385965],\n",
       "       [0.24293785, 0.12982456],\n",
       "       [0.29378531, 0.32280702],\n",
       "       [0.31073446, 0.09824561],\n",
       "       [0.19047619, 0.07142857],\n",
       "       [0.23809524, 0.2556391 ],\n",
       "       [0.33862434, 0.17669173],\n",
       "       [0.23870968, 0.07692308],\n",
       "       [0.4       , 0.08      ],\n",
       "       [0.11188811, 0.09659091],\n",
       "       [0.21678322, 0.55681818],\n",
       "       [0.1048951 , 0.11363636],\n",
       "       [0.38797814, 0.42545455],\n",
       "       [0.38251366, 0.48363636],\n",
       "       [0.92      , 0.98222222],\n",
       "       [0.22073579, 0.31547619],\n",
       "       [0.15384615, 0.19047619],\n",
       "       [0.33444816, 0.54761905],\n",
       "       [0.57190635, 0.43452381],\n",
       "       [0.39130435, 0.53571429],\n",
       "       [0.27118644, 0.13684211],\n",
       "       [0.4519774 , 0.30877193],\n",
       "       [0.27683616, 0.13333333],\n",
       "       [0.14666667, 0.19047619],\n",
       "       [0.12666667, 0.17857143],\n",
       "       [0.64878049, 0.55691057],\n",
       "       [0.53696498, 0.40816327],\n",
       "       [0.28015564, 0.42346939],\n",
       "       [0.14981273, 0.17989418],\n",
       "       [0.32958801, 0.46560847],\n",
       "       [0.26666667, 0.17333333],\n",
       "       [0.44888889, 0.6       ],\n",
       "       [0.23786408, 0.14285714],\n",
       "       [0.25728155, 0.10612245],\n",
       "       [0.25728155, 0.13469388],\n",
       "       [0.41262136, 0.45306122],\n",
       "       [0.40291262, 0.39591837],\n",
       "       [0.25242718, 0.08571429],\n",
       "       [0.30113636, 0.1048951 ],\n",
       "       [0.22159091, 0.09090909],\n",
       "       [0.51136364, 0.43356643],\n",
       "       [0.45360825, 0.2046332 ],\n",
       "       [0.24226804, 0.15444015],\n",
       "       [0.53092784, 0.53281853],\n",
       "       [0.18421053, 0.18421053],\n",
       "       [0.6       , 0.4887218 ],\n",
       "       [0.61320755, 0.5408805 ],\n",
       "       [0.2295082 , 0.08727273],\n",
       "       [0.14754098, 0.14545455],\n",
       "       [0.22404372, 0.17818182],\n",
       "       [0.48666667, 0.5       ],\n",
       "       [0.23333333, 0.29761905],\n",
       "       [0.22900763, 0.17708333],\n",
       "       [0.16793893, 0.18229167],\n",
       "       [0.36641221, 0.49479167],\n",
       "       [0.23111111, 0.47555556],\n",
       "       [0.39111111, 0.47555556],\n",
       "       [0.32758621, 0.32758621],\n",
       "       [0.13793103, 0.14367816],\n",
       "       [0.50344828, 0.36206897],\n",
       "       [0.24482759, 0.32758621],\n",
       "       [0.13103448, 0.13793103],\n",
       "       [0.2259887 , 0.16197183],\n",
       "       [0.14124294, 0.08802817],\n",
       "       [0.60451977, 0.37323944],\n",
       "       [0.46327684, 0.13380282],\n",
       "       [0.15057915, 0.13917526],\n",
       "       [0.15057915, 0.1443299 ],\n",
       "       [0.11196911, 0.1185567 ],\n",
       "       [0.07722008, 0.10309278],\n",
       "       [0.23166023, 0.40206186],\n",
       "       [0.16988417, 0.27835052],\n",
       "       [0.26254826, 0.38659794],\n",
       "       [0.12355212, 0.15979381],\n",
       "       [0.90566038, 0.67647059],\n",
       "       [0.26229508, 0.12727273],\n",
       "       [0.3715847 , 0.27636364],\n",
       "       [0.27868852, 0.13818182],\n",
       "       [0.2295082 , 0.14181818],\n",
       "       [0.42774566, 0.17857143],\n",
       "       [0.28901734, 0.12857143],\n",
       "       [0.83815029, 0.47142857],\n",
       "       [0.92380952, 0.5625    ],\n",
       "       [0.22519084, 0.19270833],\n",
       "       [0.12977099, 0.125     ],\n",
       "       [0.35114504, 0.55729167],\n",
       "       [0.21755725, 0.16145833],\n",
       "       [0.11450382, 0.16666667],\n",
       "       [0.29230769, 0.14341085],\n",
       "       [0.18974359, 0.10852713],\n",
       "       [0.47692308, 0.54263566],\n",
       "       [0.45090909, 0.84699454],\n",
       "       [0.31111111, 0.33777778],\n",
       "       [0.10305344, 0.07291667],\n",
       "       [0.11450382, 0.08333333],\n",
       "       [0.08778626, 0.08333333],\n",
       "       [0.10305344, 0.0625    ],\n",
       "       [0.10305344, 0.08333333],\n",
       "       [0.15648855, 0.22395833],\n",
       "       [0.14122137, 0.27083333],\n",
       "       [0.19465649, 0.27083333],\n",
       "       [0.17557252, 0.28125   ],\n",
       "       [0.14122137, 0.28125   ],\n",
       "       [0.09541985, 0.09895833],\n",
       "       [0.14503817, 0.09895833],\n",
       "       [0.06870229, 0.13020833],\n",
       "       [0.06870229, 0.09895833],\n",
       "       [0.07633588, 0.10416667],\n",
       "       [0.05725191, 0.08854167],\n",
       "       [0.12355212, 0.32474227],\n",
       "       [0.13127413, 0.22164948],\n",
       "       [0.35135135, 0.36082474],\n",
       "       [0.18918919, 0.19072165],\n",
       "       [0.16602317, 0.18556701],\n",
       "       [0.21126761, 0.41242938],\n",
       "       [0.15140845, 0.42937853],\n",
       "       [0.19014085, 0.29943503],\n",
       "       [0.10616438, 0.15606936],\n",
       "       [0.27054795, 0.55491329],\n",
       "       [0.17521368, 0.12093023],\n",
       "       [0.16666667, 0.15348837],\n",
       "       [0.18803419, 0.10232558],\n",
       "       [0.26495726, 0.35813953],\n",
       "       [0.26495726, 0.37209302],\n",
       "       [0.26068376, 0.34883721],\n",
       "       [0.26495726, 0.1255814 ],\n",
       "       [0.20512821, 0.17209302],\n",
       "       [0.25641026, 0.14883721],\n",
       "       [0.22556391, 0.2010582 ],\n",
       "       [0.15037594, 0.13756614],\n",
       "       [0.36090226, 0.54497354],\n",
       "       [0.29508197, 0.37818182],\n",
       "       [0.41530055, 0.39636364],\n",
       "       [0.31111111, 0.19555556],\n",
       "       [0.24      , 0.12888889],\n",
       "       [0.4       , 0.53333333],\n",
       "       [0.14666667, 0.11111111],\n",
       "       [0.24      , 0.28444444],\n",
       "       [0.16444444, 0.14666667],\n",
       "       [0.15555556, 0.16888889],\n",
       "       [0.37288136, 0.14035088],\n",
       "       [0.19774011, 0.13333333],\n",
       "       [0.59887006, 0.35438596],\n",
       "       [0.81967213, 0.48      ],\n",
       "       [0.1254902 , 0.12626263],\n",
       "       [0.31372549, 0.68181818],\n",
       "       [0.2628866 , 0.09266409],\n",
       "       [0.18041237, 0.1042471 ],\n",
       "       [0.1443299 , 0.11969112],\n",
       "       [0.20103093, 0.11196911],\n",
       "       [0.34020619, 0.36293436],\n",
       "       [0.41454545, 0.62295082],\n",
       "       [0.11272727, 0.09836066],\n",
       "       [0.10909091, 0.10928962],\n",
       "       [0.40540541, 0.33505155],\n",
       "       [0.23272727, 0.20218579],\n",
       "       [0.13454545, 0.12021858],\n",
       "       [0.19111111, 0.11555556],\n",
       "       [0.23555556, 0.25777778],\n",
       "       [0.18222222, 0.12888889],\n",
       "       [0.36643836, 0.76878613],\n",
       "       [0.31164384, 0.54913295],\n",
       "       [0.14041096, 0.16184971],\n",
       "       [0.17454545, 0.19672131],\n",
       "       [0.17818182, 0.16393443],\n",
       "       [0.30909091, 0.60655738],\n",
       "       [0.18666667, 0.08888889],\n",
       "       [0.19555556, 0.12      ],\n",
       "       [0.28888889, 0.35111111],\n",
       "       [0.73446328, 0.28070175],\n",
       "       [0.27683616, 0.22105263],\n",
       "       [0.92090395, 0.44912281],\n",
       "       [0.24727273, 0.15300546],\n",
       "       [0.20363636, 0.16939891],\n",
       "       [0.17090909, 0.17486339],\n",
       "       [0.10181818, 0.1420765 ],\n",
       "       [0.12      , 0.14754098],\n",
       "       [0.10181818, 0.15846995],\n",
       "       [0.28363636, 0.59016393],\n",
       "       [0.22545455, 0.45355191],\n",
       "       [0.25818182, 0.54644809],\n",
       "       [0.22477064, 0.12554113],\n",
       "       [0.17889908, 0.09090909],\n",
       "       [0.44954128, 0.51948052],\n",
       "       [0.16042781, 0.08550186],\n",
       "       [0.25668449, 0.12639405],\n",
       "       [0.44354839, 0.22167488],\n",
       "       [0.37903226, 0.21674877],\n",
       "       [0.17391304, 0.35119048],\n",
       "       [0.2006689 , 0.32142857],\n",
       "       [0.24749164, 0.55952381],\n",
       "       [0.27759197, 0.58928571],\n",
       "       [0.30888031, 0.44845361],\n",
       "       [0.27027027, 0.4742268 ],\n",
       "       [0.32888889, 0.58666667],\n",
       "       [0.48444444, 0.66222222],\n",
       "       [0.77227723, 0.69477912],\n",
       "       [0.23272727, 0.63387978],\n",
       "       [0.36363636, 0.38797814],\n",
       "       [0.083     , 0.0784    ],\n",
       "       [0.077     , 0.0816    ],\n",
       "       [0.109     , 0.3104    ],\n",
       "       [0.082     , 0.0736    ],\n",
       "       [0.13      , 0.2512    ],\n",
       "       [0.113     , 0.0624    ],\n",
       "       [0.077     , 0.0672    ],\n",
       "       [0.073     , 0.0656    ],\n",
       "       [0.1       , 0.2464    ],\n",
       "       [0.092     , 0.0576    ],\n",
       "       [0.055     , 0.0928    ],\n",
       "       [0.077     , 0.0752    ],\n",
       "       [0.21090909, 0.20765027],\n",
       "       [0.09454545, 0.15300546],\n",
       "       [0.33090909, 0.57377049],\n",
       "       [0.33219178, 0.46242775],\n",
       "       [0.1369863 , 0.15028902],\n",
       "       [0.28767123, 0.62427746],\n",
       "       [0.11174785, 0.13194444],\n",
       "       [0.20916905, 0.59722222],\n",
       "       [0.14689266, 0.09122807],\n",
       "       [0.35028249, 0.29122807],\n",
       "       [0.21468927, 0.1122807 ],\n",
       "       [0.1920904 , 0.11929825],\n",
       "       [0.41090909, 0.32786885],\n",
       "       [0.32727273, 0.34972678],\n",
       "       [0.22033898, 0.09122807],\n",
       "       [0.14689266, 0.13684211],\n",
       "       [0.21468927, 0.12982456],\n",
       "       [0.12      , 0.11111111],\n",
       "       [0.22222222, 0.31555556],\n",
       "       [0.12888889, 0.13333333],\n",
       "       [0.12888889, 0.16444444],\n",
       "       [0.21311475, 0.08363636],\n",
       "       [0.32786885, 0.27636364],\n",
       "       [0.1420765 , 0.15272727],\n",
       "       [0.21857923, 0.15636364],\n",
       "       [0.16585366, 0.09756098],\n",
       "       [0.25365854, 0.29674797],\n",
       "       [0.24878049, 0.17886179],\n",
       "       [0.21463415, 0.09756098],\n",
       "       [0.20487805, 0.3495935 ],\n",
       "       [0.37560976, 0.1300813 ],\n",
       "       [0.4       , 0.5019305 ],\n",
       "       [0.23076923, 0.10810811],\n",
       "       [0.24102564, 0.1042471 ],\n",
       "       [0.50909091, 0.50819672],\n",
       "       [0.22007722, 0.23195876],\n",
       "       [0.18532819, 0.28865979],\n",
       "       [0.11196911, 0.10309278],\n",
       "       [0.12355212, 0.13402062]])"
      ]
     },
     "execution_count": 12,
     "metadata": {},
     "output_type": "execute_result"
    }
   ],
   "source": [
    "feedTOKMeans"
   ]
  },
  {
   "cell_type": "markdown",
   "metadata": {},
   "source": [
    "### Plot the coordinates of the bounding box in a scatter plot for inspection"
   ]
  },
  {
   "cell_type": "code",
   "execution_count": 13,
   "metadata": {},
   "outputs": [
    {
     "data": {
      "text/plain": [
       "<matplotlib.collections.PathCollection at 0x23d66aff948>"
      ]
     },
     "execution_count": 13,
     "metadata": {},
     "output_type": "execute_result"
    },
    {
     "data": {
      "image/png": "[encoded data removed]",
      "text/plain": [
       "<Figure size 432x288 with 1 Axes>"
      ]
     },
     "metadata": {
      "needs_background": "light"
     },
     "output_type": "display_data"
    }
   ],
   "source": [
    "\n",
    "plt.scatter(jsonDF['Box_norm_width'], jsonDF['Box_norm_height'])"
   ]
  },
  {
   "cell_type": "markdown",
   "metadata": {},
   "source": [
    "### Find the optimum number of cluster for the given data shape by plotting the kmeans inertia vs number of cluster\n",
    "The plot is shaped like an elbow , the optimal number of cluster is at the elbow of the plot."
   ]
  },
  {
   "cell_type": "code",
   "execution_count": 14,
   "metadata": {},
   "outputs": [
    {
     "data": {
      "image/png": "[encoded data removed]",
      "text/plain": [
       "<Figure size 432x288 with 1 Axes>"
      ]
     },
     "metadata": {
      "needs_background": "light"
     },
     "output_type": "display_data"
    }
   ],
   "source": [
    "wcss = []\n",
    "\n",
    "for i in range(1, 11):\n",
    "    kmeans = KMeans(n_clusters=i, init='k-means++', max_iter=300, n_init=10, random_state=0)\n",
    "    kmeans.fit(feedTOKMeans)\n",
    "    wcss.append(kmeans.inertia_)\n",
    "plt.plot(range(1, 11), wcss)\n",
    "plt.title('Elbow Method')\n",
    "plt.xlabel('Number of clusters')\n",
    "plt.ylabel('WCSS')\n",
    "plt.show()"
   ]
  },
  {
   "cell_type": "markdown",
   "metadata": {},
   "source": [
    "### Plot the cluster center for 5 clusters\n",
    "Data is concentrated close to the first cluster"
   ]
  },
  {
   "cell_type": "code",
   "execution_count": 15,
   "metadata": {},
   "outputs": [
    {
     "data": {
      "image/png": "[encoded data removed]",
      "text/plain": [
       "<Figure size 432x288 with 1 Axes>"
      ]
     },
     "metadata": {
      "needs_background": "light"
     },
     "output_type": "display_data"
    }
   ],
   "source": [
    "kmeans = KMeans(n_clusters=5, init='k-means++', max_iter=300, n_init=10, random_state=0)\n",
    "pred_y = kmeans.fit_predict(feedTOKMeans)\n",
    "\n",
    "plt.scatter(feedTOKMeans[:,0], feedTOKMeans[:,1])\n",
    "plt.scatter(kmeans.cluster_centers_[:, 0], kmeans.cluster_centers_[:, 1], s=300, c='red')\n",
    "plt.show()"
   ]
  },
  {
   "cell_type": "markdown",
   "metadata": {},
   "source": []
  },
  {
   "cell_type": "code",
   "execution_count": 16,
   "metadata": {},
   "outputs": [
    {
     "data": {
      "text/plain": [
       "array([0.22257609, 0.43082609, 0.16964643, 0.82386345, 0.36318298])"
      ]
     },
     "execution_count": 16,
     "metadata": {},
     "output_type": "execute_result"
    }
   ],
   "source": [
    "kmx = kmeans.cluster_centers_[:, 0]\n",
    "kmy = kmeans.cluster_centers_[:, 1]\n",
    "kmx"
   ]
  },
  {
   "cell_type": "markdown",
   "metadata": {},
   "source": [
    "### Calculate the Intersection Over Union for each cluster w.r.t a given coordinate and chose the cluster which has maximum IoU"
   ]
  },
  {
   "cell_type": "code",
   "execution_count": 17,
   "metadata": {},
   "outputs": [],
   "source": [
    "\n",
    "cluster = []\n",
    "for i in range(len(jsonDF)):\n",
    "    IoU = []\n",
    "    for j in range(len(kmx)):\n",
    "        minx = min(jsonDF['Box_norm_width'][i],kmx[j])\n",
    "        miny = min(jsonDF['Box_norm_height'][i],kmy[j])\n",
    "        maxx = max(jsonDF['Box_norm_width'][i],kmx[j])\n",
    "        maxy = max(jsonDF['Box_norm_height'][i],kmy[j])\n",
    "        \n",
    "        IoU.append((min(jsonDF['Box_norm_width'][i],kmx[j])*min(jsonDF['Box_norm_height'][i],kmy[j]))/(max(jsonDF['Box_norm_width'][i],kmx[j])*max(jsonDF['Box_norm_height'][i],kmy[j])))\n",
    "        #print(\" bwid {} , kmx {} bhgt {} kmy {}\".format(jsonDF['Box_norm_width'][i],kmx[j],jsonDF['Box_norm_height'][i],kmy[j]))\n",
    "        #print(\"\\n minx {} miny {} maxx {} maxy {} \\n inter {} unin {} iou {}\".format(minx , miny,maxx , maxy , min(jsonDF['Box_norm_width'][i],kmx[j])*min(jsonDF['Box_norm_height'][i],kmy[j]) ,(max(jsonDF['Box_norm_width'][i],kmx[j])*max(jsonDF['Box_norm_height'][i],kmy[j])) ))\n",
    "    #print(\" iou {} max{} indx {}\".format(IoU , max(IoU) , IoU.index(max(IoU)) ))\n",
    "    \n",
    "    cluster.append(IoU.index(max(IoU)))\n",
    "    \n",
    "jsonDF[\"Cluster\"] = cluster"
   ]
  },
  {
   "cell_type": "markdown",
   "metadata": {},
   "source": [
    "### Store the cluster information in the dataframe"
   ]
  },
  {
   "cell_type": "code",
   "execution_count": 18,
   "metadata": {},
   "outputs": [],
   "source": [
    "jsonDF[\"Cluster_centers\"] = [kmeans.cluster_centers_ for i in range(len(jsonDF))]"
   ]
  },
  {
   "cell_type": "markdown",
   "metadata": {},
   "source": [
    "### Show the final dataframe"
   ]
  },
  {
   "cell_type": "code",
   "execution_count": 19,
   "metadata": {},
   "outputs": [
    {
     "data": {
      "text/html": [
       "<div>\n",
       "<style scoped>\n",
       "    .dataframe tbody tr th:only-of-type {\n",
       "        vertical-align: middle;\n",
       "    }\n",
       "\n",
       "    .dataframe tbody tr th {\n",
       "        vertical-align: top;\n",
       "    }\n",
       "\n",
       "    .dataframe thead th {\n",
       "        text-align: right;\n",
       "    }\n",
       "</style>\n",
       "<table border=\"1\" class=\"dataframe\">\n",
       "  <thead>\n",
       "    <tr style=\"text-align: right;\">\n",
       "      <th></th>\n",
       "      <th>Img_name</th>\n",
       "      <th>Box_width</th>\n",
       "      <th>Box_height</th>\n",
       "      <th>Box_class</th>\n",
       "      <th>Image_width</th>\n",
       "      <th>Image_height</th>\n",
       "      <th>Box_norm_width</th>\n",
       "      <th>Box_norm_height</th>\n",
       "      <th>Box_X</th>\n",
       "      <th>Box_Y</th>\n",
       "      <th>Cluster</th>\n",
       "      <th>Cluster_centers</th>\n",
       "    </tr>\n",
       "  </thead>\n",
       "  <tbody>\n",
       "    <tr>\n",
       "      <th>0</th>\n",
       "      <td>img_1.jpg</td>\n",
       "      <td>43</td>\n",
       "      <td>62</td>\n",
       "      <td>boot</td>\n",
       "      <td>246</td>\n",
       "      <td>205</td>\n",
       "      <td>0.174797</td>\n",
       "      <td>0.302439</td>\n",
       "      <td>3</td>\n",
       "      <td>4</td>\n",
       "      <td>0</td>\n",
       "      <td>[[0.22257608896798747, 0.32658816748012065], [...</td>\n",
       "    </tr>\n",
       "    <tr>\n",
       "      <th>1</th>\n",
       "      <td>img_1.jpg</td>\n",
       "      <td>49</td>\n",
       "      <td>64</td>\n",
       "      <td>boot</td>\n",
       "      <td>246</td>\n",
       "      <td>205</td>\n",
       "      <td>0.199187</td>\n",
       "      <td>0.312195</td>\n",
       "      <td>3</td>\n",
       "      <td>5</td>\n",
       "      <td>0</td>\n",
       "      <td>[[0.22257608896798747, 0.32658816748012065], [...</td>\n",
       "    </tr>\n",
       "    <tr>\n",
       "      <th>2</th>\n",
       "      <td>img_2.jpg</td>\n",
       "      <td>104</td>\n",
       "      <td>65</td>\n",
       "      <td>helmet</td>\n",
       "      <td>275</td>\n",
       "      <td>183</td>\n",
       "      <td>0.378182</td>\n",
       "      <td>0.355191</td>\n",
       "      <td>5</td>\n",
       "      <td>5</td>\n",
       "      <td>1</td>\n",
       "      <td>[[0.22257608896798747, 0.32658816748012065], [...</td>\n",
       "    </tr>\n",
       "    <tr>\n",
       "      <th>3</th>\n",
       "      <td>img_2.jpg</td>\n",
       "      <td>58</td>\n",
       "      <td>54</td>\n",
       "      <td>mask</td>\n",
       "      <td>275</td>\n",
       "      <td>183</td>\n",
       "      <td>0.210909</td>\n",
       "      <td>0.295082</td>\n",
       "      <td>3</td>\n",
       "      <td>4</td>\n",
       "      <td>0</td>\n",
       "      <td>[[0.22257608896798747, 0.32658816748012065], [...</td>\n",
       "    </tr>\n",
       "    <tr>\n",
       "      <th>4</th>\n",
       "      <td>img_3.jpg</td>\n",
       "      <td>47</td>\n",
       "      <td>38</td>\n",
       "      <td>helmet</td>\n",
       "      <td>271</td>\n",
       "      <td>186</td>\n",
       "      <td>0.173432</td>\n",
       "      <td>0.204301</td>\n",
       "      <td>3</td>\n",
       "      <td>3</td>\n",
       "      <td>2</td>\n",
       "      <td>[[0.22257608896798747, 0.32658816748012065], [...</td>\n",
       "    </tr>\n",
       "    <tr>\n",
       "      <th>...</th>\n",
       "      <td>...</td>\n",
       "      <td>...</td>\n",
       "      <td>...</td>\n",
       "      <td>...</td>\n",
       "      <td>...</td>\n",
       "      <td>...</td>\n",
       "      <td>...</td>\n",
       "      <td>...</td>\n",
       "      <td>...</td>\n",
       "      <td>...</td>\n",
       "      <td>...</td>\n",
       "      <td>...</td>\n",
       "    </tr>\n",
       "    <tr>\n",
       "      <th>303</th>\n",
       "      <td>img_50.jpg</td>\n",
       "      <td>140</td>\n",
       "      <td>93</td>\n",
       "      <td>boot</td>\n",
       "      <td>275</td>\n",
       "      <td>183</td>\n",
       "      <td>0.509091</td>\n",
       "      <td>0.508197</td>\n",
       "      <td>7</td>\n",
       "      <td>7</td>\n",
       "      <td>4</td>\n",
       "      <td>[[0.22257608896798747, 0.32658816748012065], [...</td>\n",
       "    </tr>\n",
       "    <tr>\n",
       "      <th>304</th>\n",
       "      <td>img_62.jpg</td>\n",
       "      <td>57</td>\n",
       "      <td>45</td>\n",
       "      <td>boot</td>\n",
       "      <td>259</td>\n",
       "      <td>194</td>\n",
       "      <td>0.220077</td>\n",
       "      <td>0.231959</td>\n",
       "      <td>3</td>\n",
       "      <td>4</td>\n",
       "      <td>0</td>\n",
       "      <td>[[0.22257608896798747, 0.32658816748012065], [...</td>\n",
       "    </tr>\n",
       "    <tr>\n",
       "      <th>305</th>\n",
       "      <td>img_62.jpg</td>\n",
       "      <td>48</td>\n",
       "      <td>56</td>\n",
       "      <td>vest</td>\n",
       "      <td>259</td>\n",
       "      <td>194</td>\n",
       "      <td>0.185328</td>\n",
       "      <td>0.288660</td>\n",
       "      <td>3</td>\n",
       "      <td>4</td>\n",
       "      <td>0</td>\n",
       "      <td>[[0.22257608896798747, 0.32658816748012065], [...</td>\n",
       "    </tr>\n",
       "    <tr>\n",
       "      <th>306</th>\n",
       "      <td>img_62.jpg</td>\n",
       "      <td>29</td>\n",
       "      <td>20</td>\n",
       "      <td>helmet</td>\n",
       "      <td>259</td>\n",
       "      <td>194</td>\n",
       "      <td>0.111969</td>\n",
       "      <td>0.103093</td>\n",
       "      <td>2</td>\n",
       "      <td>2</td>\n",
       "      <td>2</td>\n",
       "      <td>[[0.22257608896798747, 0.32658816748012065], [...</td>\n",
       "    </tr>\n",
       "    <tr>\n",
       "      <th>307</th>\n",
       "      <td>img_62.jpg</td>\n",
       "      <td>32</td>\n",
       "      <td>26</td>\n",
       "      <td>mask</td>\n",
       "      <td>259</td>\n",
       "      <td>194</td>\n",
       "      <td>0.123552</td>\n",
       "      <td>0.134021</td>\n",
       "      <td>2</td>\n",
       "      <td>2</td>\n",
       "      <td>2</td>\n",
       "      <td>[[0.22257608896798747, 0.32658816748012065], [...</td>\n",
       "    </tr>\n",
       "  </tbody>\n",
       "</table>\n",
       "<p>308 rows × 12 columns</p>\n",
       "</div>"
      ],
      "text/plain": [
       "       Img_name  Box_width  Box_height Box_class  Image_width  Image_height  \\\n",
       "0     img_1.jpg         43          62      boot          246           205   \n",
       "1     img_1.jpg         49          64      boot          246           205   \n",
       "2     img_2.jpg        104          65    helmet          275           183   \n",
       "3     img_2.jpg         58          54      mask          275           183   \n",
       "4     img_3.jpg         47          38    helmet          271           186   \n",
       "..          ...        ...         ...       ...          ...           ...   \n",
       "303  img_50.jpg        140          93      boot          275           183   \n",
       "304  img_62.jpg         57          45      boot          259           194   \n",
       "305  img_62.jpg         48          56      vest          259           194   \n",
       "306  img_62.jpg         29          20    helmet          259           194   \n",
       "307  img_62.jpg         32          26      mask          259           194   \n",
       "\n",
       "     Box_norm_width  Box_norm_height  Box_X  Box_Y  Cluster  \\\n",
       "0          0.174797         0.302439      3      4        0   \n",
       "1          0.199187         0.312195      3      5        0   \n",
       "2          0.378182         0.355191      5      5        1   \n",
       "3          0.210909         0.295082      3      4        0   \n",
       "4          0.173432         0.204301      3      3        2   \n",
       "..              ...              ...    ...    ...      ...   \n",
       "303        0.509091         0.508197      7      7        4   \n",
       "304        0.220077         0.231959      3      4        0   \n",
       "305        0.185328         0.288660      3      4        0   \n",
       "306        0.111969         0.103093      2      2        2   \n",
       "307        0.123552         0.134021      2      2        2   \n",
       "\n",
       "                                       Cluster_centers  \n",
       "0    [[0.22257608896798747, 0.32658816748012065], [...  \n",
       "1    [[0.22257608896798747, 0.32658816748012065], [...  \n",
       "2    [[0.22257608896798747, 0.32658816748012065], [...  \n",
       "3    [[0.22257608896798747, 0.32658816748012065], [...  \n",
       "4    [[0.22257608896798747, 0.32658816748012065], [...  \n",
       "..                                                 ...  \n",
       "303  [[0.22257608896798747, 0.32658816748012065], [...  \n",
       "304  [[0.22257608896798747, 0.32658816748012065], [...  \n",
       "305  [[0.22257608896798747, 0.32658816748012065], [...  \n",
       "306  [[0.22257608896798747, 0.32658816748012065], [...  \n",
       "307  [[0.22257608896798747, 0.32658816748012065], [...  \n",
       "\n",
       "[308 rows x 12 columns]"
      ]
     },
     "execution_count": 19,
     "metadata": {},
     "output_type": "execute_result"
    }
   ],
   "source": [
    "jsonDF"
   ]
  },
  {
   "cell_type": "markdown",
   "metadata": {},
   "source": [
    "### Save the dataframe "
   ]
  },
  {
   "cell_type": "code",
   "execution_count": 20,
   "metadata": {},
   "outputs": [],
   "source": [
    "jsonDF.to_csv(filepath + 'S12_Assignment_Solution_cluster.csv', index= False)"
   ]
  }
 ],
 "metadata": {
  "kernelspec": {
   "display_name": "Python 3",
   "language": "python",
   "name": "python3"
  },
  "language_info": {
   "codemirror_mode": {
    "name": "ipython",
    "version": 3
   },
   "file_extension": ".py",
   "mimetype": "text/x-python",
   "name": "python",
   "nbconvert_exporter": "python",
   "pygments_lexer": "ipython3",
   "version": "3.7.7"
  }
 },
 "nbformat": 4,
 "nbformat_minor": 4
}
